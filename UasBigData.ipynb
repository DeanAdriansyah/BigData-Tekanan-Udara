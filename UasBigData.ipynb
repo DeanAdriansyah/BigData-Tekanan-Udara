{
 "cells": [
  {
   "cell_type": "code",
   "execution_count": 11,
   "id": "0303fb61",
   "metadata": {},
   "outputs": [],
   "source": [
    "from pyspark.sql import SparkSession\n",
    "spark = SparkSession.builder.appName(\"Linear Regression Model\").getOrCreate()"
   ]
  },
  {
   "cell_type": "code",
   "execution_count": 12,
   "id": "4fe6df18",
   "metadata": {},
   "outputs": [],
   "source": [
    "from pyspark.ml.regression import LinearRegression\n",
    "from pyspark.ml.linalg import Vectors\n",
    "from pyspark.ml.feature import VectorAssembler"
   ]
  },
  {
   "cell_type": "code",
   "execution_count": 13,
   "id": "dad71c3d",
   "metadata": {},
   "outputs": [],
   "source": [
    "data = spark.read.csv('dataset_cuaca.csv',header = True, inferSchema = True)"
   ]
  },
  {
   "cell_type": "code",
   "execution_count": 14,
   "id": "0bed0b07",
   "metadata": {},
   "outputs": [
    {
     "name": "stdout",
     "output_type": "stream",
     "text": [
      "root\n",
      " |-- rowID: integer (nullable = true)\n",
      " |-- hpwren_timestamp: string (nullable = true)\n",
      " |-- air_pressure: double (nullable = true)\n",
      " |-- air_temp: double (nullable = true)\n",
      " |-- avg_wind_direction: double (nullable = true)\n",
      " |-- avg_wind_speed: double (nullable = true)\n",
      " |-- max_wind_direction: double (nullable = true)\n",
      " |-- max_wind_speed: double (nullable = true)\n",
      " |-- min_wind_direction: double (nullable = true)\n",
      " |-- min_wind_speed: double (nullable = true)\n",
      " |-- rain_accumulation: double (nullable = true)\n",
      " |-- rain_duration: double (nullable = true)\n",
      " |-- relative_humidity: double (nullable = true)\n",
      "\n"
     ]
    }
   ],
   "source": [
    "data.printSchema()"
   ]
  },
  {
   "cell_type": "code",
   "execution_count": 15,
   "id": "734c6190",
   "metadata": {
    "scrolled": true
   },
   "outputs": [
    {
     "name": "stdout",
     "output_type": "stream",
     "text": [
      "+-----+-------------------+------------+--------+------------------+--------------+------------------+--------------+------------------+--------------+-----------------+-------------+-----------------+\n",
      "|rowID|   hpwren_timestamp|air_pressure|air_temp|avg_wind_direction|avg_wind_speed|max_wind_direction|max_wind_speed|min_wind_direction|min_wind_speed|rain_accumulation|rain_duration|relative_humidity|\n",
      "+-----+-------------------+------------+--------+------------------+--------------+------------------+--------------+------------------+--------------+-----------------+-------------+-----------------+\n",
      "|    0|2020-09-10 00:00:49|       912.3|   64.76|              97.0|           1.2|             106.0|           1.6|              85.0|           1.0|             NULL|         NULL|             60.5|\n",
      "|    1|2020-09-10 00:01:49|       912.3|   63.86|             161.0|           0.8|             215.0|           1.5|              43.0|           0.2|              0.0|          0.0|             39.9|\n",
      "|    2|2020-09-10 00:02:49|       912.3|   64.22|              77.0|           0.7|             143.0|           1.2|             324.0|           0.3|              0.0|          0.0|             43.0|\n",
      "|    3|2020-09-10 00:03:49|       912.3|    64.4|              89.0|           1.2|             112.0|           1.6|              12.0|           0.7|              0.0|          0.0|             49.5|\n",
      "|    4|2020-09-10 00:04:49|       912.3|    64.4|             185.0|           0.4|             260.0|           1.0|             100.0|           0.1|              0.0|          0.0|             58.8|\n",
      "|    5|2020-09-10 00:05:49|       912.3|    63.5|              76.0|           2.5|              92.0|           3.0|              61.0|           2.0|              0.0|          0.0|             62.6|\n",
      "|    6|2020-09-10 00:06:49|       912.3|   62.78|              79.0|           2.4|              89.0|           2.7|              62.0|           2.0|              0.0|          0.0|             65.6|\n",
      "|    7|2020-09-10 00:07:49|       912.3|   62.42|              86.0|           2.0|              92.0|           2.4|              75.0|           1.8|              0.0|          0.0|             65.2|\n",
      "|    8|2020-09-10 00:08:49|       912.3|   62.24|             105.0|           1.4|             125.0|           1.9|              82.0|           1.0|              0.0|          0.0|             65.8|\n",
      "|    9|2020-09-10 00:09:49|       912.3|   62.24|              93.0|           0.4|             126.0|           0.7|              14.0|           0.2|              0.0|          0.0|             58.6|\n",
      "|   10|2020-09-10 00:10:49|       912.3|   62.24|             144.0|           1.2|             167.0|           1.8|             115.0|           0.6|              0.0|          0.0|             38.5|\n",
      "|   11|2020-09-10 00:11:49|       912.2|   63.14|             105.0|           1.6|             126.0|           2.0|              92.0|           0.9|              0.0|          0.0|             42.6|\n",
      "|   12|2020-09-10 00:12:49|       912.2|   64.04|             116.0|           1.8|             143.0|           2.7|             104.0|           1.1|              0.0|          0.0|             45.3|\n",
      "|   13|2020-09-10 00:13:49|       912.2|    64.4|             142.0|           1.1|             200.0|           1.9|              93.0|           0.7|              0.0|          0.0|             36.1|\n",
      "|   14|2020-09-10 00:14:49|       912.2|   64.94|             150.0|           1.3|             173.0|           2.1|             117.0|           0.8|              0.0|          0.0|             33.2|\n",
      "|   15|2020-09-10 00:15:49|       912.2|   65.48|              90.0|           1.5|             100.0|           1.9|              80.0|           1.3|              0.0|          0.0|             45.2|\n",
      "|   16|2020-09-10 00:16:49|       912.3|   65.48|              91.0|           0.7|             168.0|           1.2|              26.0|           0.4|              0.0|          0.0|             55.9|\n",
      "|   17|2020-09-10 00:17:49|       912.3|   64.94|              77.0|           1.7|              91.0|           2.2|              55.0|           0.8|              0.0|          0.0|             60.5|\n",
      "|   18|2020-09-10 00:18:49|       912.3|   64.04|             107.0|           1.9|             116.0|           2.4|              95.0|           1.5|              0.0|          0.0|             61.8|\n",
      "|   19|2020-09-10 00:19:49|       912.2|   63.32|             109.0|           0.9|             119.0|           1.3|              98.0|           0.6|              0.0|          0.0|             56.0|\n",
      "+-----+-------------------+------------+--------+------------------+--------------+------------------+--------------+------------------+--------------+-----------------+-------------+-----------------+\n",
      "only showing top 20 rows\n",
      "\n"
     ]
    }
   ],
   "source": [
    "data.show()"
   ]
  },
  {
   "cell_type": "code",
   "execution_count": 16,
   "id": "d034f06e",
   "metadata": {},
   "outputs": [
    {
     "data": {
      "text/plain": [
       "Row(rowID=0, hpwren_timestamp='2020-09-10 00:00:49', air_pressure=912.3, air_temp=64.76, avg_wind_direction=97.0, avg_wind_speed=1.2, max_wind_direction=106.0, max_wind_speed=1.6, min_wind_direction=85.0, min_wind_speed=1.0, rain_accumulation=None, rain_duration=None, relative_humidity=60.5)"
      ]
     },
     "execution_count": 16,
     "metadata": {},
     "output_type": "execute_result"
    }
   ],
   "source": [
    "data.head(1)[0]"
   ]
  },
  {
   "cell_type": "code",
   "execution_count": 17,
   "id": "6786e7e7",
   "metadata": {},
   "outputs": [
    {
     "name": "stdout",
     "output_type": "stream",
     "text": [
      "0\n",
      "2020-09-10 00:00:49\n",
      "912.3\n",
      "64.76\n",
      "97.0\n",
      "1.2\n",
      "106.0\n",
      "1.6\n",
      "85.0\n",
      "1.0\n",
      "None\n",
      "None\n",
      "60.5\n"
     ]
    }
   ],
   "source": [
    "for item in data.head(1)[0]:\n",
    "    print(item)"
   ]
  },
  {
   "cell_type": "code",
   "execution_count": 18,
   "id": "4c21a50e",
   "metadata": {},
   "outputs": [
    {
     "data": {
      "text/plain": [
       "['rowID',\n",
       " 'hpwren_timestamp',\n",
       " 'air_pressure',\n",
       " 'air_temp',\n",
       " 'avg_wind_direction',\n",
       " 'avg_wind_speed',\n",
       " 'max_wind_direction',\n",
       " 'max_wind_speed',\n",
       " 'min_wind_direction',\n",
       " 'min_wind_speed',\n",
       " 'rain_accumulation',\n",
       " 'rain_duration',\n",
       " 'relative_humidity']"
      ]
     },
     "execution_count": 18,
     "metadata": {},
     "output_type": "execute_result"
    }
   ],
   "source": [
    "data.columns"
   ]
  },
  {
   "cell_type": "code",
   "execution_count": 19,
   "id": "2a3fba8e",
   "metadata": {},
   "outputs": [],
   "source": [
    "assembler = VectorAssembler(inputCols=['rowID',\n",
    " 'air_pressure',\n",
    " 'air_temp',\n",
    " 'avg_wind_direction',\n",
    " 'avg_wind_speed',\n",
    " 'max_wind_direction',\n",
    " 'max_wind_speed',\n",
    " 'min_wind_direction',\n",
    " 'min_wind_speed','relative_humidity'],outputCol= 'features',handleInvalid=\"skip\")"
   ]
  },
  {
   "cell_type": "code",
   "execution_count": 20,
   "id": "e029ebde",
   "metadata": {},
   "outputs": [],
   "source": [
    "output = assembler.transform(data)"
   ]
  },
  {
   "cell_type": "code",
   "execution_count": 21,
   "id": "e72231c7",
   "metadata": {},
   "outputs": [
    {
     "data": {
      "text/plain": [
       "[Row(rowID=0, hpwren_timestamp='2020-09-10 00:00:49', air_pressure=912.3, air_temp=64.76, avg_wind_direction=97.0, avg_wind_speed=1.2, max_wind_direction=106.0, max_wind_speed=1.6, min_wind_direction=85.0, min_wind_speed=1.0, rain_accumulation=None, rain_duration=None, relative_humidity=60.5, features=DenseVector([0.0, 912.3, 64.76, 97.0, 1.2, 106.0, 1.6, 85.0, 1.0, 60.5]))]"
      ]
     },
     "execution_count": 21,
     "metadata": {},
     "output_type": "execute_result"
    }
   ],
   "source": [
    "output.head(1)"
   ]
  },
  {
   "cell_type": "code",
   "execution_count": 22,
   "id": "9a8fb573",
   "metadata": {},
   "outputs": [],
   "source": [
    "final_data = output.select('features','air_pressure')"
   ]
  },
  {
   "cell_type": "code",
   "execution_count": 23,
   "id": "4ffd80dc",
   "metadata": {},
   "outputs": [
    {
     "name": "stdout",
     "output_type": "stream",
     "text": [
      "+--------------------+------------+\n",
      "|            features|air_pressure|\n",
      "+--------------------+------------+\n",
      "|[0.0,912.3,64.76,...|       912.3|\n",
      "|[1.0,912.3,63.86,...|       912.3|\n",
      "|[2.0,912.3,64.22,...|       912.3|\n",
      "|[3.0,912.3,64.4,8...|       912.3|\n",
      "|[4.0,912.3,64.4,1...|       912.3|\n",
      "|[5.0,912.3,63.5,7...|       912.3|\n",
      "|[6.0,912.3,62.78,...|       912.3|\n",
      "|[7.0,912.3,62.42,...|       912.3|\n",
      "|[8.0,912.3,62.24,...|       912.3|\n",
      "|[9.0,912.3,62.24,...|       912.3|\n",
      "|[10.0,912.3,62.24...|       912.3|\n",
      "|[11.0,912.2,63.14...|       912.2|\n",
      "|[12.0,912.2,64.04...|       912.2|\n",
      "|[13.0,912.2,64.4,...|       912.2|\n",
      "|[14.0,912.2,64.94...|       912.2|\n",
      "|[15.0,912.2,65.48...|       912.2|\n",
      "|[16.0,912.3,65.48...|       912.3|\n",
      "|[17.0,912.3,64.94...|       912.3|\n",
      "|[18.0,912.3,64.04...|       912.3|\n",
      "|[19.0,912.2,63.32...|       912.2|\n",
      "+--------------------+------------+\n",
      "only showing top 20 rows\n",
      "\n"
     ]
    }
   ],
   "source": [
    "final_data.show()"
   ]
  },
  {
   "cell_type": "code",
   "execution_count": 24,
   "id": "35f085f7",
   "metadata": {},
   "outputs": [],
   "source": [
    "train_data, test_data = final_data.randomSplit([0.7,0.3])"
   ]
  },
  {
   "cell_type": "code",
   "execution_count": 25,
   "id": "11ec044f",
   "metadata": {},
   "outputs": [
    {
     "name": "stdout",
     "output_type": "stream",
     "text": [
      "+-------+-----------------+\n",
      "|summary|     air_pressure|\n",
      "+-------+-----------------+\n",
      "|  count|           733117|\n",
      "|   mean|916.8984868717985|\n",
      "| stddev|3.085139175072087|\n",
      "|    min|            905.0|\n",
      "|    max|            929.5|\n",
      "+-------+-----------------+\n",
      "\n"
     ]
    }
   ],
   "source": [
    "train_data.describe().show()"
   ]
  },
  {
   "cell_type": "code",
   "execution_count": 26,
   "id": "ed8f4521",
   "metadata": {},
   "outputs": [],
   "source": [
    "regressor = LinearRegression(labelCol='air_pressure')"
   ]
  },
  {
   "cell_type": "code",
   "execution_count": 27,
   "id": "cfcd9639",
   "metadata": {},
   "outputs": [],
   "source": [
    "model = regressor.fit(train_data)"
   ]
  },
  {
   "cell_type": "code",
   "execution_count": 28,
   "id": "f50dc7a0",
   "metadata": {},
   "outputs": [],
   "source": [
    "pred_data = model.evaluate(test_data)"
   ]
  },
  {
   "cell_type": "code",
   "execution_count": 29,
   "id": "805ee7ce",
   "metadata": {},
   "outputs": [
    {
     "name": "stdout",
     "output_type": "stream",
     "text": [
      "+--------------------+\n",
      "|           residuals|\n",
      "+--------------------+\n",
      "|1.136868377216160...|\n",
      "|3.410605131648481...|\n",
      "|5.684341886080801...|\n",
      "|2.273736754432320...|\n",
      "|                 0.0|\n",
      "|                 0.0|\n",
      "|                 0.0|\n",
      "|2.273736754432320...|\n",
      "|3.410605131648481...|\n",
      "|6.821210263296962...|\n",
      "|2.273736754432320...|\n",
      "|5.684341886080801...|\n",
      "|2.273736754432320...|\n",
      "|1.136868377216160...|\n",
      "|2.273736754432320...|\n",
      "|4.547473508864641...|\n",
      "|1.136868377216160...|\n",
      "|1.136868377216160...|\n",
      "|3.410605131648481...|\n",
      "|2.273736754432320...|\n",
      "+--------------------+\n",
      "only showing top 20 rows\n",
      "\n"
     ]
    }
   ],
   "source": [
    "pred_data.residuals.show()"
   ]
  },
  {
   "cell_type": "code",
   "execution_count": 30,
   "id": "c9455b63",
   "metadata": {},
   "outputs": [
    {
     "data": {
      "text/plain": [
       "3.1925483560743675e-13"
      ]
     },
     "execution_count": 30,
     "metadata": {},
     "output_type": "execute_result"
    }
   ],
   "source": [
    "pred_data.rootMeanSquaredError"
   ]
  },
  {
   "cell_type": "code",
   "execution_count": 31,
   "id": "846be296",
   "metadata": {},
   "outputs": [
    {
     "data": {
      "text/plain": [
       "1.0"
      ]
     },
     "execution_count": 31,
     "metadata": {},
     "output_type": "execute_result"
    }
   ],
   "source": [
    "pred_data.r2"
   ]
  },
  {
   "cell_type": "code",
   "execution_count": 32,
   "id": "8f57bce4",
   "metadata": {},
   "outputs": [
    {
     "data": {
      "text/plain": [
       "1.0192365005873146e-25"
      ]
     },
     "execution_count": 32,
     "metadata": {},
     "output_type": "execute_result"
    }
   ],
   "source": [
    "pred_data.meanSquaredError"
   ]
  },
  {
   "cell_type": "code",
   "execution_count": 33,
   "id": "c555e8c2",
   "metadata": {},
   "outputs": [
    {
     "data": {
      "text/plain": [
       "2.1181072839172844e-13"
      ]
     },
     "execution_count": 33,
     "metadata": {},
     "output_type": "execute_result"
    }
   ],
   "source": [
    "pred_data.meanAbsoluteError"
   ]
  },
  {
   "cell_type": "code",
   "execution_count": 34,
   "id": "f85bed00",
   "metadata": {},
   "outputs": [],
   "source": [
    "unlabeled_data = test_data.select('features')\n",
    "test_predictions = model.transform(unlabeled_data)"
   ]
  },
  {
   "cell_type": "code",
   "execution_count": 35,
   "id": "773cb770",
   "metadata": {},
   "outputs": [
    {
     "name": "stdout",
     "output_type": "stream",
     "text": [
      "+--------------------+-----------------+\n",
      "|            features|       prediction|\n",
      "+--------------------+-----------------+\n",
      "|[2.0,912.3,64.22,...|912.2999999999998|\n",
      "|[10.0,912.3,62.24...|912.2999999999996|\n",
      "|[11.0,912.2,63.14...|912.1999999999995|\n",
      "|[12.0,912.2,64.04...|912.1999999999998|\n",
      "|[13.0,912.2,64.4,...|            912.2|\n",
      "|[15.0,912.2,65.48...|            912.2|\n",
      "|[16.0,912.3,65.48...|            912.3|\n",
      "|[18.0,912.3,64.04...|912.2999999999997|\n",
      "|[20.0,912.2,63.32...|912.1999999999997|\n",
      "|[26.0,912.2,63.68...|912.1999999999994|\n",
      "|[27.0,912.2,63.5,...|912.1999999999998|\n",
      "|[28.0,912.2,63.14...|912.1999999999995|\n",
      "|[38.0,912.2,63.86...|912.1999999999998|\n",
      "|[42.0,912.2,63.86...|912.1999999999999|\n",
      "|[45.0,912.2,64.22...|912.1999999999998|\n",
      "|[51.0,912.1,63.86...|912.0999999999996|\n",
      "|[54.0,912.1,64.58...|912.0999999999999|\n",
      "|[58.0,912.1,63.86...|912.0999999999999|\n",
      "|[65.0,912.0,64.58...|911.9999999999997|\n",
      "|[66.0,912.0,64.4,...|911.9999999999998|\n",
      "+--------------------+-----------------+\n",
      "only showing top 20 rows\n",
      "\n"
     ]
    }
   ],
   "source": [
    "test_predictions.show()"
   ]
  },
  {
   "cell_type": "code",
   "execution_count": 36,
   "id": "c99e8f9d",
   "metadata": {},
   "outputs": [
    {
     "data": {
      "image/png": "[encoded data removed]",
      "text/plain": [
       "<Figure size 432x288 with 1 Axes>"
      ]
     },
     "metadata": {
      "needs_background": "light"
     },
     "output_type": "display_data"
    }
   ],
   "source": [
    "import matplotlib.pyplot as plt\n",
    "import pandas as pd\n",
    "\n",
    "# Convert PySpark DataFrame to Pandas DataFrame for visualization\n",
    "pd_test_predictions = test_predictions.select('prediction').toPandas()\n",
    "pd_test_data = test_data.select('air_pressure').toPandas()\n",
    "\n",
    "# Plotting\n",
    "plt.scatter(pd_test_data['air_pressure'], pd_test_predictions['prediction'])\n",
    "plt.xlabel('Actual Air Pressure')\n",
    "plt.ylabel('Predicted Air Pressure')\n",
    "plt.title('Linear Regression Model - Actual vs Predicted Air Pressure')\n",
    "plt.show()\n"
   ]
  },
  {
   "cell_type": "code",
   "execution_count": 37,
   "id": "8133e426",
   "metadata": {},
   "outputs": [
    {
     "data": {
      "image/png": "[encoded data removed]",
      "text/plain": [
       "<Figure size 432x288 with 1 Axes>"
      ]
     },
     "metadata": {
      "needs_background": "light"
     },
     "output_type": "display_data"
    }
   ],
   "source": [
    "import matplotlib.pyplot as plt\n",
    "import numpy as np\n",
    "from pyspark.sql import SparkSession\n",
    "\n",
    "# Inisialisasi Spark Session\n",
    "spark = SparkSession.builder \\\n",
    "    .appName(\"Python Spark SQL basic example\") \\\n",
    "    .config(\"spark.some.config.option\", \"some-value\") \\\n",
    "    .getOrCreate()\n",
    "\n",
    "# Cari kolom prediksi dan aktual\n",
    "predictions = test_predictions.select('prediction').collect()\n",
    "actuals = test_predictions.select('features').collect()\n",
    "\n",
    "# Ekstraksi nilai\n",
    "pred_values = [p[0] for p in predictions]\n",
    "actual_values = [a.features[0] for a in actuals]\n",
    "\n",
    "# Plot\n",
    "plt.scatter(actual_values, pred_values)\n",
    "plt.xlabel('Aktual')\n",
    "plt.ylabel('Prediksi')\n",
    "plt.title('Prediksi vs Aktual')\n",
    "plt.show()"
   ]
  },
  {
   "cell_type": "code",
   "execution_count": 38,
   "id": "f3d0d730",
   "metadata": {},
   "outputs": [
    {
     "data": {
      "image/png": "[encoded data removed]",
      "text/plain": [
       "<Figure size 432x288 with 1 Axes>"
      ]
     },
     "metadata": {
      "needs_background": "light"
     },
     "output_type": "display_data"
    }
   ],
   "source": [
    "import pandas as pd\n",
    "import numpy as np\n",
    "import matplotlib.pyplot as plt\n",
    "\n",
    "# Dummy data\n",
    "freq = [200000, 150000, 100000, 50000, 0, -0.5]\n",
    "residuals = [0.0, 0.5, 1.0, 1.5, -1.0, -1.5]\n",
    "\n",
    "# Create DataFrame\n",
    "data = pd.DataFrame({'Frequency': freq, 'Residuals': residuals})\n",
    "\n",
    "# Plot Histogram\n",
    "plt.hist(data['Residuals'], bins=np.arange(min(data['Residuals']), max(data['Residuals']), 0.5), \n",
    "         alpha=0.7, rwidth=0.85, color='b', align='left')\n",
    "plt.title('Histogram of Residuals')\n",
    "plt.xlabel('Residuals')\n",
    "plt.ylabel('Frequency')\n",
    "plt.grid(axis='y', alpha=0.75)\n",
    "plt.show()"
   ]
  },
  {
   "cell_type": "code",
   "execution_count": null,
   "id": "0c055153",
   "metadata": {},
   "outputs": [],
   "source": []
  }
 ],
 "metadata": {
  "kernelspec": {
   "display_name": "Python 3 (ipykernel)",
   "language": "python",
   "name": "python3"
  },
  "language_info": {
   "codemirror_mode": {
    "name": "ipython",
    "version": 3
   },
   "file_extension": ".py",
   "mimetype": "text/x-python",
   "name": "python",
   "nbconvert_exporter": "python",
   "pygments_lexer": "ipython3",
   "version": "3.9.12"
  }
 },
 "nbformat": 4,
 "nbformat_minor": 5
}
